{
 "cells": [
  {
   "cell_type": "markdown",
   "metadata": {},
   "source": [
    "### Importing Libraries\n"
   ]
  },
  {
   "cell_type": "code",
   "execution_count": 1,
   "metadata": {},
   "outputs": [
    {
     "data": {
      "text/plain": [
       "'cuda'"
      ]
     },
     "execution_count": 1,
     "metadata": {},
     "output_type": "execute_result"
    }
   ],
   "source": [
    "import torch\n",
    "import torchvision\n",
    "import os\n",
    "import random\n",
    "import base64\n",
    "import matplotlib.pyplot as plt\n",
    "import opendatasets as od\n",
    "import numpy as np\n",
    "import pathlib\n",
    "import glob as gb\n",
    "import shutil\n",
    "from shutil import copy \n",
    "from pathlib import Path\n",
    "import torch.nn as nn\n",
    "import torch.nn.functional as F\n",
    "from torchvision import datasets\n",
    "from torchvision import transforms\n",
    "from torch.utils.data import DataLoader\n",
    "from tqdm import tqdm\n",
    "from PIL import Image\n",
    "from tqdm.auto import tqdm\n",
    "from io import BytesIO\n",
    "\n",
    "device = 'cuda' if torch.cuda.is_available() else 'cpu'\n",
    "device"
   ]
  },
  {
   "cell_type": "markdown",
   "metadata": {},
   "source": [
    "## Downloading the dataset from kaggle"
   ]
  },
  {
   "cell_type": "code",
   "execution_count": 2,
   "metadata": {},
   "outputs": [
    {
     "name": "stdout",
     "output_type": "stream",
     "text": [
      "Please provide your Kaggle credentials to download this dataset. Learn more: http://bit.ly/kaggle-creds\n",
      "Your Kaggle username:Your Kaggle Key:Dataset URL: https://www.kaggle.com/datasets/mahmoudreda55/arabic-letters-numbers-ocr\n",
      "Downloading arabic-letters-numbers-ocr.zip to ./arabic-letters-numbers-ocr\n"
     ]
    },
    {
     "name": "stderr",
     "output_type": "stream",
     "text": [
      "100%|██████████| 30.8M/30.8M [00:09<00:00, 3.34MB/s]\n"
     ]
    },
    {
     "name": "stdout",
     "output_type": "stream",
     "text": [
      "\n"
     ]
    }
   ],
   "source": [
    "od.download(\"https://www.kaggle.com/datasets/mahmoudreda55/arabic-letters-numbers-ocr/data\") "
   ]
  },
  {
   "cell_type": "markdown",
   "metadata": {},
   "source": [
    "### Data Preprocessing"
   ]
  },
  {
   "cell_type": "markdown",
   "metadata": {},
   "source": [
    "**Function Breakdown: `split_dataset`**\n",
    "\n",
    "This function takes an input directory containing our dataset, along with desired paths for training and testing directories, and a split ratio (between 0 and 1, 0.8 in our casee) to define the proportion of data allocated for training.\n",
    "\n",
    "1. **Create Training and Testing Directories (if necessary):**\n",
    "   - The function checks if the `train_dir` and `test_dir` exist. If not, it creates them using `os.makedirs`.\n",
    "\n",
    "2. **Iterate Through Subdirectories:**\n",
    "   - The function employs `os.walk` to traverse through all directories (including subdirectories) within the `input_dir`.\n",
    "   - For each subdirectory encountered (`dir_name`):\n",
    "      - It creates corresponding subdirectories inside `train_dir` and `test_dir` to maintain the same hierarchy as the original data.\n",
    "\n",
    "3. **Shuffle and Split Files:**\n",
    "   - It retrieves a list of files (`files_list`) within the current subdirectory.\n",
    "   - then it shuffles the file list using `random.shuffle`.\n",
    "   - Based on the provided `split_ratio`, it calculates the split index to determine the number of files allocated for training.\n",
    "   - The function then splits `files_list` into two separate lists: `train_files` (containing the first `split_index` elements) and `test_files` (containing the remaining elements).\n",
    "\n",
    "4. **Copy Files to Training and Testing Directories:**\n",
    "   - It iterates through `train_files` and `test_files` separately.\n",
    "   - For each file, it constructs the source path (`src_file`) within the original data structure and the destination path (`dst_file`) within the corresponding training or testing subdirectory.\n",
    "   - Finally, it uses `shutil.copy` to copy each file from its source to its designated training or testing location.\n"
   ]
  },
  {
   "cell_type": "code",
   "execution_count": 73,
   "metadata": {},
   "outputs": [],
   "source": [
    "def split_dataset(input_dir: Path, train_dir: Path, test_dir: Path, split_ratio=0.8):\n",
    "    \"\"\"\n",
    "    Split files from input directory into training and testing sets.\n",
    "\n",
    "    Parameters\n",
    "    ----------\n",
    "    input_dir : Path\n",
    "        Directory with subdirectories of files to split.\n",
    "    train_dir : Path\n",
    "        Directory to store the training set.\n",
    "    test_dir : Path\n",
    "        Directory to store the testing set.\n",
    "    split_ratio : float, optional\n",
    "        Proportion of files for the training set (default is 0.8).\n",
    "        \n",
    "    \"\"\"\n",
    "    # Function implementation here\n",
    "\n",
    "    # Create train and test directories if they don't exist\n",
    "    if not os.path.exists(train_dir):\n",
    "        os.makedirs(train_dir)\n",
    "    if not os.path.exists(test_dir):\n",
    "        os.makedirs(test_dir)\n",
    "    \n",
    "    # Iterate over the directories in the input directory\n",
    "    for root, dirs, files in os.walk(input_dir):\n",
    "        for dir_name in dirs:\n",
    "            # Create corresponding train and test directories\n",
    "            train_subdir = os.path.join(train_dir, dir_name)\n",
    "            test_subdir = os.path.join(test_dir, dir_name)\n",
    "            if not os.path.exists(train_subdir):\n",
    "                os.makedirs(train_subdir)\n",
    "            if not os.path.exists(test_subdir):\n",
    "                os.makedirs(test_subdir)\n",
    "            \n",
    "            # Get list of files in the current subdirectory\n",
    "            files_list = os.listdir(os.path.join(root, dir_name))\n",
    "            # Shuffle the list of files\n",
    "            random.shuffle(files_list)\n",
    "            \n",
    "            # Split the files based on the split ratio\n",
    "            split_index = int(len(files_list) * split_ratio)\n",
    "            train_files = files_list[:split_index]\n",
    "            test_files = files_list[split_index:]\n",
    "            \n",
    "            # Move files to corresponding train and test directories\n",
    "            for file_name in train_files:\n",
    "                src_file = os.path.join(root, dir_name, file_name)\n",
    "                dst_file = os.path.join(train_subdir, file_name)\n",
    "                shutil.copy(src_file, dst_file)\n",
    "            for file_name in test_files:\n",
    "                src_file = os.path.join(root, dir_name, file_name)\n",
    "                dst_file = os.path.join(test_subdir, file_name)\n",
    "                shutil.copy(src_file, dst_file)\n",
    "\n",
    "input_dir = 'Dataset'\n",
    "train_dir = \"Train\"\n",
    "test_dir = \"Test\"\n",
    "split_ratio = 0.8\n",
    "split_dataset(input_dir, train_dir, test_dir, split_ratio)\n"
   ]
  },
  {
   "cell_type": "code",
   "execution_count": 2,
   "metadata": {},
   "outputs": [],
   "source": [
    "# Define the train and test directories\n",
    "train_dir = '/Train'\n",
    "test_dir = '/Test'"
   ]
  },
  {
   "cell_type": "code",
   "execution_count": 4,
   "metadata": {},
   "outputs": [
    {
     "name": "stdout",
     "output_type": "stream",
     "text": [
      "length of our dataset images (Train): 77376\n"
     ]
    },
    {
     "data": {
      "image/jpeg": "[encoded data removed]",
      "image/png": "[encoded data removed]",
      "text/plain": [
       "<PIL.PngImagePlugin.PngImageFile image mode=L size=64x64>"
      ]
     },
     "execution_count": 4,
     "metadata": {},
     "output_type": "execute_result"
    }
   ],
   "source": [
    "# Getting a random picture from our dataset\n",
    "image_path = Path(train_dir)\n",
    "images_path_list = list(image_path.glob('*/*.png'))\n",
    "print(f'length of our dataset images (Train): {len(images_path_list)}')\n",
    "random_img = random.choice(images_path_list)\n",
    "img = Image.open(random_img)\n",
    "img"
   ]
  },
  {
   "cell_type": "markdown",
   "metadata": {},
   "source": [
    "## Data Transformations\n",
    "\n",
    "The code defines a sequence of image transformations:\n",
    "\n",
    "1. Grayscale conversion (removes color information).\n",
    "2. Resize to 32x32 pixels (ensures uniform size).\n",
    "3. Convert to PyTorch tensor (prepares for model input).\n",
    "\n",
    "These transformations prepare images for a deep learning model, typically for classification tasks. "
   ]
  },
  {
   "cell_type": "code",
   "execution_count": 5,
   "metadata": {},
   "outputs": [],
   "source": [
    "transforms_simple = transforms.Compose([\n",
    "    transforms.Grayscale(),\n",
    "    transforms.Resize((32,32)),\n",
    "    transforms.ToTensor()\n",
    "])\n"
   ]
  },
  {
   "cell_type": "markdown",
   "metadata": {},
   "source": [
    "## Creating Datasets\n",
    "\n",
    "Prepares datasets for training and testing using `datasets.ImageFolder`:\n",
    "\n",
    "- **Training (`train_data_folder`):** Loads images from `train_dir` and applies `transforms_simple` for pre-processing.\n",
    "- **Testing (`test_data_folder`):** Loads images from `test_dir` with the same transformations.\n"
   ]
  },
  {
   "cell_type": "code",
   "execution_count": 6,
   "metadata": {},
   "outputs": [],
   "source": [
    "train_data_folder = datasets.ImageFolder(train_dir,\n",
    "                                         transform=transforms_simple\n",
    "                                         )\n",
    "\n",
    "test_data_folder = datasets.ImageFolder(test_dir,\n",
    "                                        transform=transforms_simple)\n"
   ]
  },
  {
   "cell_type": "markdown",
   "metadata": {},
   "source": [
    "Sets up `Dataloaders` for training and testing using PyTorch:\n",
    "\n",
    "- **Batching:** `BATCH_SIZE` images are processed together (16 here) for efficiency.\n",
    "- **Parallelism:** `NUM_WORKERS` CPU cores load data concurrently (utilizes all cores).\n",
    "- **Shuffling:** Training data is shuffled for better generalization.\n",
    "- **Class Information:** Class names (`data_classes`) and their corresponding indices (`classes_to_idx`) are stored.\n",
    "\n",
    "Dataloaders streamline data loading, improving training and testing efficiency.\n"
   ]
  },
  {
   "cell_type": "code",
   "execution_count": 7,
   "metadata": {},
   "outputs": [],
   "source": [
    "BATCH_SIZE = 32\n",
    "NUM_WORKERS = os.cpu_count()\n",
    "\n",
    "train_dataloader = DataLoader(train_data_folder,\n",
    "                              batch_size=BATCH_SIZE,\n",
    "                              shuffle=True,\n",
    "                              num_workers=NUM_WORKERS)\n",
    "test_dataloader = DataLoader(test_data_folder,\n",
    "                             batch_size=BATCH_SIZE,\n",
    "                             num_workers=NUM_WORKERS)"
   ]
  },
  {
   "cell_type": "code",
   "execution_count": 8,
   "metadata": {},
   "outputs": [
    {
     "data": {
      "text/plain": [
       "(torch.Size([32, 1, 32, 32]), torch.Size([32]))"
      ]
     },
     "execution_count": 8,
     "metadata": {},
     "output_type": "execute_result"
    }
   ],
   "source": [
    "# Checking the shape of the train data\n",
    "train_img, train_label = next(iter(train_dataloader))\n",
    "train_img.shape, train_label.shape"
   ]
  },
  {
   "cell_type": "code",
   "execution_count": 9,
   "metadata": {},
   "outputs": [
    {
     "data": {
      "text/plain": [
       "(2418, 606)"
      ]
     },
     "execution_count": 9,
     "metadata": {},
     "output_type": "execute_result"
    }
   ],
   "source": [
    "# Checking the number of bathces of each dataset (train and test)\n",
    "len(train_dataloader), len(test_dataloader)"
   ]
  },
  {
   "cell_type": "code",
   "execution_count": 197,
   "metadata": {},
   "outputs": [
    {
     "data": {
      "text/plain": [
       "(['ا',\n",
       "  'ب',\n",
       "  'ت',\n",
       "  'ث',\n",
       "  'ج',\n",
       "  'ح',\n",
       "  'خ',\n",
       "  'د',\n",
       "  'ذ',\n",
       "  'ر',\n",
       "  'ز',\n",
       "  'س',\n",
       "  'ش',\n",
       "  'ص',\n",
       "  'ض',\n",
       "  'ط',\n",
       "  'ظ',\n",
       "  'ع',\n",
       "  'غ',\n",
       "  'ف',\n",
       "  'ق',\n",
       "  'ك',\n",
       "  'ل',\n",
       "  'لا',\n",
       "  'م',\n",
       "  'ن',\n",
       "  'ه',\n",
       "  'و',\n",
       "  'ي',\n",
       "  '٠',\n",
       "  '١',\n",
       "  '٢',\n",
       "  '٣',\n",
       "  '٤',\n",
       "  '٥',\n",
       "  '٦',\n",
       "  '٧',\n",
       "  '٨',\n",
       "  '٩'],\n",
       " {'ا': 0,\n",
       "  'ب': 1,\n",
       "  'ت': 2,\n",
       "  'ث': 3,\n",
       "  'ج': 4,\n",
       "  'ح': 5,\n",
       "  'خ': 6,\n",
       "  'د': 7,\n",
       "  'ذ': 8,\n",
       "  'ر': 9,\n",
       "  'ز': 10,\n",
       "  'س': 11,\n",
       "  'ش': 12,\n",
       "  'ص': 13,\n",
       "  'ض': 14,\n",
       "  'ط': 15,\n",
       "  'ظ': 16,\n",
       "  'ع': 17,\n",
       "  'غ': 18,\n",
       "  'ف': 19,\n",
       "  'ق': 20,\n",
       "  'ك': 21,\n",
       "  'ل': 22,\n",
       "  'لا': 23,\n",
       "  'م': 24,\n",
       "  'ن': 25,\n",
       "  'ه': 26,\n",
       "  'و': 27,\n",
       "  'ي': 28,\n",
       "  '٠': 29,\n",
       "  '١': 30,\n",
       "  '٢': 31,\n",
       "  '٣': 32,\n",
       "  '٤': 33,\n",
       "  '٥': 34,\n",
       "  '٦': 35,\n",
       "  '٧': 36,\n",
       "  '٨': 37,\n",
       "  '٩': 38})"
      ]
     },
     "execution_count": 197,
     "metadata": {},
     "output_type": "execute_result"
    }
   ],
   "source": [
    "# Checking the data classes and mapping it to idx\n",
    "data_classes = test_data_folder.classes\n",
    "classes_to_idx = test_data_folder.class_to_idx\n",
    "data_classes, classes_to_idx"
   ]
  },
  {
   "cell_type": "markdown",
   "metadata": {},
   "source": [
    "# Model Initialization\n",
    "\n",
    "- Defines a simple CNN architecture (`Net`) with convolutional and fully-connected layers for image classification.\n",
    "- The model takes grayscale images (1 channel) as input and outputs (class probabilities) based on 39 classes.\n",
    "- An instance of the model is created and moved to the specified device (CPU or GPU) for computations."
   ]
  },
  {
   "cell_type": "code",
   "execution_count": 20,
   "metadata": {},
   "outputs": [],
   "source": [
    "# Model Architecture (simple cnn with 2 conv layers)\n",
    "class Net(nn.Module):\n",
    "    def __init__(self):\n",
    "        super().__init__()\n",
    "        self.conv1 = nn.Conv2d(1, 6, 5)\n",
    "        self.pool = nn.MaxPool2d(2, 2)\n",
    "        self.conv2 = nn.Conv2d(6, 16, 5)\n",
    "        self.fc1 = nn.Linear(16 * 5 * 5, 120)\n",
    "        self.fc2 = nn.Linear(120, 84)\n",
    "        self.fc3 = nn.Linear(84, 39)\n",
    "\n",
    "    def forward(self, x):\n",
    "        x = self.pool(F.relu(self.conv1(x)))\n",
    "        x = self.pool(F.relu(self.conv2(x)))\n",
    "        x = torch.flatten(x, 1) # flatten all dimensions except batch\n",
    "        x = F.relu(self.fc1(x))\n",
    "        x = F.relu(self.fc2(x))\n",
    "        x = self.fc3(x)\n",
    "        return x\n",
    "\n",
    "# Instantiate the model\n",
    "model = Net().to(device)"
   ]
  },
  {
   "cell_type": "markdown",
   "metadata": {},
   "source": [
    "## Loss Function & Optimizer\n",
    "\n",
    "Define essential elements for training the model:\n",
    "\n",
    "**Loss Function:**\n",
    "\n",
    "* `loss_fn = nn.CrossEntropyLoss()`: Defines the loss function as cross-entropy for multi-class classification.\n",
    "\n",
    "**Optimizer:**\n",
    "\n",
    "* `optimizer = torch.optim.SGD(params=model.parameters(), lr=0.01)`: \n",
    "    - Uses Stochastic Gradient Descent (SGD) optimizer.\n",
    "    - Sets the learning rate (`lr`) to 0.01.\n"
   ]
  },
  {
   "cell_type": "code",
   "execution_count": 21,
   "metadata": {},
   "outputs": [],
   "source": [
    "loss_fn = nn.CrossEntropyLoss()\n",
    "optimizer = torch.optim.SGD(params= model.parameters(),\n",
    "                             lr= 0.01)"
   ]
  },
  {
   "cell_type": "markdown",
   "metadata": {},
   "source": [
    "# Train the model"
   ]
  },
  {
   "cell_type": "markdown",
   "metadata": {},
   "source": [
    " **Training and Testing Functions**\n",
    "\n",
    "- **`train_step`:**\n",
    "    - Trains model on a data batch.\n",
    "    - Forward pass, loss calculation, backpropagation, parameter updates.\n",
    "    - Tracks and returns average loss and accuracy.\n",
    "\n",
    "- **`test_step`:**\n",
    "    - Evaluates model on a data batch.\n",
    "    - Forward pass, loss calculation, accuracy calculation.\n",
    "    - No backpropagation, uses inference mode.\n",
    "    - Tracks and returns average loss and accuracy.\n",
    "\n",
    "- **`train`:**\n",
    "    - Takes model, dataloaders, optimizer, loss function and epochs as input.\n",
    "    - Tracks training/testing loss and accuracy in a dictionary.\n",
    "    - Iterates through epochs, calling `train_step` and `test_step` for each epoch.\n",
    "    - Prints training progress and updates the results dictionary.\n",
    "    - Returns the dictionary containing the training history.\n",
    "\n"
   ]
  },
  {
   "cell_type": "code",
   "execution_count": 22,
   "metadata": {},
   "outputs": [],
   "source": [
    "def train_step(model: torch.nn.Module, \n",
    "               dataloader: torch.utils.data.DataLoader, \n",
    "               loss_fn: torch.nn.Module, \n",
    "               optimizer: torch.optim.Optimizer):\n",
    "    # Put model in train mode\n",
    "    model.train()\n",
    "    \n",
    "    # Setup train loss and train accuracy values\n",
    "    train_loss, train_acc = 0, 0\n",
    "    \n",
    "    # Loop through data loader data batches\n",
    "    for batch, (X, y) in enumerate(dataloader):\n",
    "        # Send data to target device\n",
    "        X, y = X.to(device), y.to(device)\n",
    "\n",
    "        # 1. Forward pass\n",
    "        y_pred = model(X)\n",
    "\n",
    "        # 2. Calculate  and accumulate loss\n",
    "        loss = loss_fn(y_pred, y)\n",
    "        train_loss += loss.item() \n",
    "\n",
    "        # 3. Optimizer zero grad\n",
    "        optimizer.zero_grad()\n",
    "\n",
    "        # 4. Loss backward\n",
    "        loss.backward()\n",
    "\n",
    "        \n",
    "        # 5. Optimizer step\n",
    "        optimizer.step()\n",
    "        # Calculate and accumulate accuracy metric across all batches\n",
    "        y_pred_class = torch.argmax(torch.softmax(y_pred, dim=1), dim=1)\n",
    "        train_acc += (y_pred_class == y).sum().item()/len(y_pred)\n",
    "        # if batch % 50 == 0 or batch == len(train_dataloader):\n",
    "        #     print(f'{batch*BATCH_SIZE} / {len(train_dataloader) * BATCH_SIZE}')\n",
    "\n",
    "    # Adjust metrics to get average loss and accuracy per batch \n",
    "    train_loss = train_loss / len(dataloader)\n",
    "    train_acc = train_acc / len(dataloader)\n",
    "    return train_loss, train_acc"
   ]
  },
  {
   "cell_type": "code",
   "execution_count": 23,
   "metadata": {},
   "outputs": [],
   "source": [
    "def test_step(model: torch.nn.Module, \n",
    "              dataloader: torch.utils.data.DataLoader, \n",
    "              loss_fn: torch.nn.Module):\n",
    "    # Put model in eval mode\n",
    "    model.eval() \n",
    "    \n",
    "    # Setup test loss and test accuracy values\n",
    "    test_loss, test_acc = 0, 0\n",
    "    \n",
    "    # Turn on inference context manager\n",
    "    with torch.inference_mode():\n",
    "        # Loop through DataLoader batches\n",
    "        for batch, (X, y) in enumerate(dataloader):\n",
    "            # Send data to target device\n",
    "            X, y = X.to(device), y.to(device)\n",
    "    \n",
    "            # 1. Forward pass\n",
    "            test_pred_logits = model(X)\n",
    "\n",
    "            # 2. Calculate and accumulate loss\n",
    "            loss = loss_fn(test_pred_logits, y)\n",
    "            test_loss += loss.item()\n",
    "            \n",
    "            # Calculate and accumulate accuracy\n",
    "            test_pred_labels = test_pred_logits.argmax(dim=1)\n",
    "            test_acc += ((test_pred_labels == y).sum().item()/len(test_pred_labels))\n",
    "            \n",
    "    # Adjust metrics to get average loss and accuracy per batch \n",
    "    test_loss = test_loss / len(dataloader)\n",
    "    test_acc = test_acc / len(dataloader)\n",
    "    return test_loss, test_acc"
   ]
  },
  {
   "cell_type": "code",
   "execution_count": 26,
   "metadata": {},
   "outputs": [],
   "source": [
    "# 1. Take in various parameters required for training and test steps\n",
    "def train(model: torch.nn.Module, \n",
    "          train_dataloader: torch.utils.data.DataLoader, \n",
    "          test_dataloader: torch.utils.data.DataLoader, \n",
    "          optimizer: torch.optim.Optimizer,\n",
    "          loss_fn: torch.nn.Module = nn.CrossEntropyLoss(),\n",
    "          epochs: int = 5):\n",
    "    \n",
    "    # 2. Create empty results dictionary\n",
    "    results = {\"train_loss\": [],\n",
    "        \"train_acc\": [],\n",
    "        \"test_loss\": [],\n",
    "        \"test_acc\": []\n",
    "    }\n",
    "    \n",
    "    # 3. Loop through training and testing steps for a number of epochs\n",
    "    for epoch in tqdm(range(epochs)):\n",
    "        train_loss, train_acc = train_step(model=model,\n",
    "                                           dataloader=train_dataloader,\n",
    "                                           loss_fn=loss_fn,\n",
    "                                           optimizer=optimizer)\n",
    "        test_loss, test_acc = test_step(model=model,\n",
    "                                        dataloader=test_dataloader,\n",
    "                                        loss_fn=loss_fn)\n",
    "        \n",
    "        # 4. Print out what's happening\n",
    "        print(\n",
    "            f\"Epoch: {epoch+1} | \"\n",
    "            f\"train_loss: {train_loss:.4f} | \"\n",
    "            f\"train_acc: {train_acc:.4f} | \"\n",
    "            f\"test_loss: {test_loss:.4f} | \"\n",
    "            f\"test_acc: {test_acc:.4f}\"\n",
    "        )\n",
    "\n",
    "\n",
    "        # 5. Update results dictionary\n",
    "        results[\"train_loss\"].append(train_loss)\n",
    "        results[\"train_acc\"].append(train_acc)\n",
    "        results[\"test_loss\"].append(test_loss)\n",
    "        results[\"test_acc\"].append(test_acc)\n",
    "\n",
    "    # 6. Return the filled results at the end of the epochs\n",
    "    return results"
   ]
  },
  {
   "cell_type": "code",
   "execution_count": 27,
   "metadata": {},
   "outputs": [
    {
     "data": {
      "application/vnd.jupyter.widget-view+json": {
       "model_id": "1c5c1101ec91486eaf2387f7d382e0e5",
       "version_major": 2,
       "version_minor": 0
      },
      "text/plain": [
       "  0%|          | 0/10 [00:00<?, ?it/s]"
      ]
     },
     "metadata": {},
     "output_type": "display_data"
    },
    {
     "name": "stdout",
     "output_type": "stream",
     "text": [
      "Epoch: 1 | train_loss: 3.0189 | train_acc: 0.1972 | test_loss: 0.8657 | test_acc: 0.7729\n",
      "Epoch: 2 | train_loss: 0.4351 | train_acc: 0.8744 | test_loss: 0.2715 | test_acc: 0.9159\n",
      "Epoch: 3 | train_loss: 0.1769 | train_acc: 0.9463 | test_loss: 0.1295 | test_acc: 0.9620\n",
      "Epoch: 4 | train_loss: 0.1118 | train_acc: 0.9671 | test_loss: 0.0919 | test_acc: 0.9728\n",
      "Epoch: 5 | train_loss: 0.0809 | train_acc: 0.9769 | test_loss: 0.0709 | test_acc: 0.9809\n",
      "Epoch: 6 | train_loss: 0.0627 | train_acc: 0.9816 | test_loss: 0.0756 | test_acc: 0.9769\n",
      "Epoch: 7 | train_loss: 0.0535 | train_acc: 0.9849 | test_loss: 0.0523 | test_acc: 0.9854\n",
      "Epoch: 8 | train_loss: 0.0442 | train_acc: 0.9876 | test_loss: 0.0602 | test_acc: 0.9824\n",
      "Epoch: 9 | train_loss: 0.0371 | train_acc: 0.9893 | test_loss: 0.0407 | test_acc: 0.9888\n",
      "Epoch: 10 | train_loss: 0.0326 | train_acc: 0.9907 | test_loss: 0.0615 | test_acc: 0.9827\n"
     ]
    }
   ],
   "source": [
    "# train and save the result to plot it\n",
    "model_results = train(model, train_dataloader, test_dataloader, optimizer, loss_fn, epochs=10)"
   ]
  },
  {
   "cell_type": "code",
   "execution_count": 28,
   "metadata": {},
   "outputs": [
    {
     "data": {
      "image/png": "[encoded data removed]",
      "text/plain": [
       "<Figure size 1500x700 with 2 Axes>"
      ]
     },
     "metadata": {},
     "output_type": "display_data"
    }
   ],
   "source": [
    "def plot_loss_curves(results: dict):\n",
    "\n",
    "    \"\"\"Plots training curves of a results dictionary.\n",
    "\n",
    "    Args:\n",
    "        results (dict): dictionary containing list of values, e.g.\n",
    "            {\"train_loss\": [...],\n",
    "             \"train_acc\": [...],\n",
    "             \"test_loss\": [...],\n",
    "             \"test_acc\": [...]}\n",
    "    \"\"\"\n",
    "    \n",
    "    # Get the loss values of the results dictionary (training and test)\n",
    "    loss = results['train_loss']\n",
    "    test_loss = results['test_loss']\n",
    "\n",
    "    # Get the accuracy values of the results dictionary (training and test)\n",
    "    accuracy = results['train_acc']\n",
    "    test_accuracy = results['test_acc']\n",
    "\n",
    "    # Figure out how many epochs there were\n",
    "    epochs = range(len(results['train_loss']))\n",
    "\n",
    "    # Setup a plot \n",
    "    plt.figure(figsize=(15, 7))\n",
    "\n",
    "    # Plot loss\n",
    "    plt.subplot(1, 2, 1)\n",
    "    plt.plot(epochs, loss, label='train_loss')\n",
    "    plt.plot(epochs, test_loss, label='test_loss')\n",
    "    plt.title('Loss')\n",
    "    plt.xlabel('Epochs')\n",
    "    plt.legend()\n",
    "\n",
    "    # Plot accuracy\n",
    "    plt.subplot(1, 2, 2)\n",
    "    plt.plot(epochs, accuracy, label='train_accuracy')\n",
    "    plt.plot(epochs, test_accuracy, label='test_accuracy')\n",
    "    plt.title('Accuracy')\n",
    "    plt.xlabel('Epochs')\n",
    "    plt.legend();\n",
    "\n",
    "plot_loss_curves(model_results)"
   ]
  },
  {
   "cell_type": "markdown",
   "metadata": {},
   "source": [
    "`base64_to_image` function converts a base64 encoded file (our base64 img file) into a usable image format. It reads the file, decodes the base64 data, saves it as an image (e.g., `decoded.png`), and returns the image path."
   ]
  },
  {
   "cell_type": "code",
   "execution_count": 188,
   "metadata": {},
   "outputs": [],
   "source": [
    "# convert base64 to png\n",
    "def base64_to_image(base64_file: base64) -> Path:\n",
    "    \"\"\"\n",
    "    takes base64 file and convert it to png img\n",
    "\n",
    "    parameters\n",
    "    -------------\n",
    "    base64_file : XX.bin file that we will convert\n",
    "    \n",
    "    returns\n",
    "    -------------\n",
    "    image_path : our image path\n",
    "    \"\"\"\n",
    "    # string to image\n",
    "    with open(base64_file, 'rb') as file:\n",
    "        byte = file.read() \n",
    "    # Decode the Base64 string to binary data\n",
    "    image_data = base64.b64decode(byte)\n",
    "    # write the binary data to a png img\n",
    "    image_path = 'decoded.png'\n",
    "    with open(image_path, 'wb') as output_file:\n",
    "        output_file.write(image_data)\n",
    "\n",
    "    return image_path"
   ]
  },
  {
   "cell_type": "code",
   "execution_count": 206,
   "metadata": {},
   "outputs": [],
   "source": [
    "def predict_on_base64(model: nn.Module, base64_file: base64) -> tuple:\n",
    "    \"\"\"\n",
    "    Predicts the class label and its probability for a base64-encoded image.\n",
    "\n",
    "    Parameters\n",
    "    ----------\n",
    "    model : torch.nn.Module The pre-trained CNN model used for prediction.\n",
    "\n",
    "    base64_string : str The base64-encoded image data as a string.\n",
    "\n",
    "    Returns\n",
    "    -------\n",
    "    tuple[str, float]\n",
    "        A tuple containing the predicted class label (string) and its\n",
    "        corresponding probability (float).\n",
    "    \"\"\"\n",
    "    # Path of our img (after conversion)\n",
    "    path = base64_to_image(base64_file)\n",
    "    # Passing the image to convert it to float32 tensor\n",
    "    custom_image = torchvision.io.read_image(str(path)).type(torch.float32)\n",
    "    # Divide the image pixel values by 255 to get them between [0, 1]\n",
    "    custom_image = custom_image / 255. \n",
    "    # Defining the same transforms for the image\n",
    "    transform_img = transforms.Compose([\n",
    "    transforms.Grayscale(),\n",
    "    transforms.Resize((32,32)),\n",
    "    ])\n",
    "    # Transform target image\n",
    "    custom_image_transformed = transform_img(custom_image)\n",
    "    # Add an extra dimension to image -> [1, 1, 32, 32] -> [BATCH_SIZE, COLOR_CHANNELS, HEIGHT, WIDTH]\n",
    "    custom_image_transformed_with_batch_size = custom_image_transformed.unsqueeze(dim=0)\n",
    "    # Setting up the model for evaluation\n",
    "    model.eval()\n",
    "    with torch.inference_mode():\n",
    "        # Make a prediction on image and returning the modeel logits\n",
    "        custom_image_pred = model(custom_image_transformed_with_batch_size.to(device))\n",
    "        # Getting the softamx of the logits to know the sample probability for the 39 classes\n",
    "        prob = torch.softmax(custom_image_pred, dim=1)\n",
    "        # Getting our image probability\n",
    "        sample_prob = prob[0][prob.argmax()].item()\n",
    "        # Getting the highes label index\n",
    "        test_pred_labels = custom_image_pred.argmax(dim=1).item()\n",
    "    # Model classes\n",
    "    labels = data_classes\n",
    "    # sample label\n",
    "    test_pred_labels = labels[test_pred_labels]\n",
    "    \n",
    "    return test_pred_labels, sample_prob"
   ]
  },
  {
   "cell_type": "code",
   "execution_count": 207,
   "metadata": {},
   "outputs": [
    {
     "name": "stdout",
     "output_type": "stream",
     "text": [
      "The prediction of the label is: ٤ , with probability: 0.9997958540916443\n"
     ]
    }
   ],
   "source": [
    "prediction, probability = predict_on_base64(model=model, base64_file='encode.bin')\n",
    "print(f\"The prediction of the label is: {prediction} , with probability: {probability}\")"
   ]
  },
  {
   "cell_type": "markdown",
   "metadata": {},
   "source": [
    "## Saving the Model"
   ]
  },
  {
   "cell_type": "code",
   "execution_count": 208,
   "metadata": {},
   "outputs": [],
   "source": [
    "# Defining the path of our model\n",
    "path_of_model = 'cnn_net.pt'\n",
    "# Save the model parameters to our path\n",
    "torch.save(model.state_dict(), path_of_model)"
   ]
  },
  {
   "cell_type": "markdown",
   "metadata": {},
   "source": [
    "## Loading and Testing the Model"
   ]
  },
  {
   "cell_type": "code",
   "execution_count": 219,
   "metadata": {},
   "outputs": [
    {
     "data": {
      "text/plain": [
       "Net(\n",
       "  (conv1): Conv2d(1, 6, kernel_size=(5, 5), stride=(1, 1))\n",
       "  (pool): MaxPool2d(kernel_size=2, stride=2, padding=0, dilation=1, ceil_mode=False)\n",
       "  (conv2): Conv2d(6, 16, kernel_size=(5, 5), stride=(1, 1))\n",
       "  (fc1): Linear(in_features=400, out_features=120, bias=True)\n",
       "  (fc2): Linear(in_features=120, out_features=84, bias=True)\n",
       "  (fc3): Linear(in_features=84, out_features=39, bias=True)\n",
       ")"
      ]
     },
     "execution_count": 219,
     "metadata": {},
     "output_type": "execute_result"
    }
   ],
   "source": [
    "class Net(nn.Module):\n",
    "    def __init__(self):\n",
    "        super().__init__()\n",
    "        self.conv1 = nn.Conv2d(1, 6, 5)\n",
    "        self.pool = nn.MaxPool2d(2, 2)\n",
    "        self.conv2 = nn.Conv2d(6, 16, 5)\n",
    "        self.fc1 = nn.Linear(16 * 5 * 5, 120)\n",
    "        self.fc2 = nn.Linear(120, 84)\n",
    "        self.fc3 = nn.Linear(84, 39)\n",
    "\n",
    "    def forward(self, x):\n",
    "        x = self.pool(F.relu(self.conv1(x)))\n",
    "        x = self.pool(F.relu(self.conv2(x)))\n",
    "        x = torch.flatten(x, 1) # flatten all dimensions except batch\n",
    "        x = F.relu(self.fc1(x))\n",
    "        x = F.relu(self.fc2(x))\n",
    "        x = self.fc3(x)\n",
    "        return x\n",
    "# Load and send theee model to device (cpu or gpu)\n",
    "loaded_model = Net().to(device)\n",
    "# Loading the pretrained parameters to the model\n",
    "loaded_model.load_state_dict(torch.load(path_of_model))\n",
    "# setting up the model for evaluation\n",
    "loaded_model.eval()"
   ]
  },
  {
   "cell_type": "code",
   "execution_count": 224,
   "metadata": {},
   "outputs": [
    {
     "name": "stdout",
     "output_type": "stream",
     "text": [
      "The prediction of the label is: ٤ , with probability: 1.0\n"
     ]
    }
   ],
   "source": [
    "prediction, probability = predict_on_base64(model=loaded_model, base64_file='encode.bin')\n",
    "print(f\"The prediction of the label is: {prediction} , with probability: {probability}\")"
   ]
  },
  {
   "cell_type": "markdown",
   "metadata": {},
   "source": [
    "# Draft Cells"
   ]
  },
  {
   "cell_type": "code",
   "execution_count": 18,
   "metadata": {},
   "outputs": [],
   "source": [
    "def loads_data_classes():\n",
    "    path = 'class_labels.txt'\n",
    "    with open(path, 'r') as f:\n",
    "        class_labels = [line.strip() for line in f]\n",
    "    return class_labels"
   ]
  },
  {
   "cell_type": "code",
   "execution_count": 19,
   "metadata": {},
   "outputs": [
    {
     "data": {
      "text/plain": [
       "['ا',\n",
       " 'ب',\n",
       " 'ت',\n",
       " 'ث',\n",
       " 'ج',\n",
       " 'ح',\n",
       " 'خ',\n",
       " 'د',\n",
       " 'ذ',\n",
       " 'ر',\n",
       " 'ز',\n",
       " 'س',\n",
       " 'ش',\n",
       " 'ص',\n",
       " 'ض',\n",
       " 'ط',\n",
       " 'ظ',\n",
       " 'ع',\n",
       " 'غ',\n",
       " 'ف',\n",
       " 'ق',\n",
       " 'ك',\n",
       " 'ل',\n",
       " 'لا',\n",
       " 'م',\n",
       " 'ن',\n",
       " 'ه',\n",
       " 'و',\n",
       " 'ي',\n",
       " '٠',\n",
       " '١',\n",
       " '٢',\n",
       " '٣',\n",
       " '٤',\n",
       " '٥',\n",
       " '٦',\n",
       " '٧',\n",
       " '٨',\n",
       " '٩']"
      ]
     },
     "execution_count": 19,
     "metadata": {},
     "output_type": "execute_result"
    }
   ],
   "source": [
    "test = loads_data_classes()\n",
    "test"
   ]
  },
  {
   "cell_type": "code",
   "execution_count": 20,
   "metadata": {},
   "outputs": [],
   "source": [
    "lst_labels = ['ا','ب','ت','ث','ج','ح','خ','د','ذ','ر','ز','س','ش','ص','ض','ط','ظ','ع','غ','ف','ق','ك','ل','لا','م','ن','ه','و','ي','٠','١','٢','٣','٤','٥','٦','٧','٨','٩']"
   ]
  },
  {
   "cell_type": "code",
   "execution_count": 23,
   "metadata": {},
   "outputs": [
    {
     "data": {
      "text/plain": [
       "'س'"
      ]
     },
     "execution_count": 23,
     "metadata": {},
     "output_type": "execute_result"
    }
   ],
   "source": [
    "lst_labels[11]"
   ]
  }
 ],
 "metadata": {
  "kernelspec": {
   "display_name": "torch_gpuenv",
   "language": "python",
   "name": "python3"
  },
  "language_info": {
   "codemirror_mode": {
    "name": "ipython",
    "version": 3
   },
   "file_extension": ".py",
   "mimetype": "text/x-python",
   "name": "python",
   "nbconvert_exporter": "python",
   "pygments_lexer": "ipython3",
   "version": "3.10.14"
  }
 },
 "nbformat": 4,
 "nbformat_minor": 2
}
